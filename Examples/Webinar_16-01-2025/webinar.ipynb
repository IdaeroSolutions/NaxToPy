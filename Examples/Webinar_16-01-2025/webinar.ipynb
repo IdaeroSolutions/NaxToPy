{
 "cells": [
  {
   "cell_type": "markdown",
   "metadata": {},
   "source": [
    "# <span style=\"color: #158aa1;\"><strong>Introduction to NaxToPy</strong></span> "
   ]
  },
  {
   "cell_type": "markdown",
   "metadata": {},
   "source": [
    "NaxToPy is a Python package developed by Idaero within the NaxTo environment that allows users to work with finite element models and results."
   ]
  },
  {
   "cell_type": "markdown",
   "metadata": {},
   "source": [
    "In the current field of aeronautical structural analysis, we deal with a massive amount of data. To facilitate the work, we rely on programs that perform iterative tasks. For instance, in a project we are currently working on, we are transitioning the analysis from Excel to Python because the 1,048,576 rows of Excel were insufficient (and it's slower)."
   ]
  },
  {
   "cell_type": "markdown",
   "metadata": {},
   "source": [
    "## <span style=\"color: #158aa1;\"><strong>How is NaxToPy installed?</strong></span>"
   ]
  },
  {
   "cell_type": "markdown",
   "metadata": {},
   "source": [
    "To use NaxToPy, you need to have Python and NaxTo installed. You can install NaxToPy during the NaxTo installation process without having to run a separate command from the terminal. To check if you have already installed NaxToPy, run the command <span style=\"color:yellow; font-family:Consolas;\">>>> pip list</span> and see if it appears in the list.\n",
    "\n",
    "If it is not listed, you can install it like any other Python package using the command <span style=\"color:yellow; font-family:Consolas;\">>>> pip install NaxToPy</span>\n",
    "\n",
    "If the command fails, you may not have Python installed or it may not be added to the path.\n",
    "\n",
    "We are using VS Code to work with jupyter notebooks. The python version is the 3.11.7 as you can see in the top right corner. As external package we are using [NaxToPy](<https://pypi.org/project/NaxToPy/>), a package that will allow as to open and load imput mesh files (.inp, .bdf, .fem) and binary result files (.op2, .odb, .h3d, .xdb, .rst). The commands and almost all the code is the same for every solver supported (Nastran, Abaqus, Optistruct and Ansys). For using this package it is necessary to have [NaxTo](<https://www.idaerosolutions.com/Home/NaxTo>) instaled. NaxTo is asuit develeped for post-prcess... bla bla bla Onece installed, using the package is as easy as import it:"
   ]
  },
  {
   "cell_type": "markdown",
   "metadata": {},
   "source": [
    "## <span style=\"color: #158aa1;\"><strong>1. Loading mesh and initialize variables</strong></span>"
   ]
  },
  {
   "cell_type": "code",
   "execution_count": 1,
   "metadata": {},
   "outputs": [],
   "source": [
    "import NaxToPy as n2p  # Importing the NaxToPy library for FEM analysis.\n",
    "import os              # Importing the os library for file and path handling.\n",
    "\n",
    "# Path to the FEM input file (.dat) that contains the model information.\n",
    "pathfem = r\"C:\\webinar_16_jan\\SUBCASE_17500.dat\"\n",
    "\n",
    "# Extracting the directory from the file path.\n",
    "base_path = os.path.dirname(pathfem)\n",
    "\n",
    "# Defining the file extension for the OP2 result files.\n",
    "extension = \".op2\"\n",
    "\n",
    "# Defining the number of cases and the property ID to filter elements.\n",
    "num_cases = 8\n",
    "property = 11\n"
   ]
  },
  {
   "cell_type": "markdown",
   "metadata": {},
   "source": [
    "## <span style=\"color: #158aa1;\"><strong>2. Loading load cases</strong></span>"
   ]
  },
  {
   "cell_type": "code",
   "execution_count": 2,
   "metadata": {},
   "outputs": [
    {
     "name": "stdout",
     "output_type": "stream",
     "text": [
      "0\n",
      "8\n",
      "[N2PLoadCase(17500: '2DP'), N2PLoadCase(17501: ' PRESSURE+MECHANICAL'), N2PLoadCase(17502: ' PRESSURE+MECHANICAL+TEMPERATURE COLD'), N2PLoadCase(17503: ' PRESSURE+MECHANICAL+TEMPERATURE HOT'), N2PLoadCase(17504: ' MECHANICAL+TEMPERATURECOLD'), N2PLoadCase(17505: ' MECHANICAL+TEMPERATUREHOT'), N2PLoadCase(17506: ' PRESSURE+MECHANICAL'), N2PLoadCase(17507: ' PRESSURE+MECHANICAL+TEMPERATURE COLD')]\n"
     ]
    }
   ],
   "source": [
    "# Loading the model using NaxToPy from the specified .dat file.\n",
    "model = n2p.load_model(pathfem)\n",
    "\n",
    "# Creating a list of all OP2 files in the directory that match the extension.\n",
    "op2_files = [f for f in os.listdir(base_path) if f.endswith('.op2')]\n",
    "\n",
    "# Printing the number of load cases in the model before importing results.\n",
    "print(len(model.LoadCases))\n",
    "\n",
    "# Importing results from the OP2 files into the model.\n",
    "model.import_results_from_files(op2_files)\n",
    "\n",
    "# Printing the number of load cases after importing the results.\n",
    "print(len(model.LoadCases))\n",
    "\n",
    "# Printing the load cases in the model.\n",
    "print(model.LoadCases)"
   ]
  },
  {
   "cell_type": "markdown",
   "metadata": {},
   "source": [
    "## <span style=\"color: #158aa1;\"><strong>3. Extracting results</strong></span>"
   ]
  },
  {
   "cell_type": "code",
   "execution_count": 3,
   "metadata": {},
   "outputs": [
    {
     "name": "stdout",
     "output_type": "stream",
     "text": [
      "300\n",
      "The maximum stresses for loadcase 17500 is: 182.75 MPa\n",
      "The maximum stresses for loadcase 17501 is: 209.06 MPa\n",
      "The maximum stresses for loadcase 17502 is: 352.85 MPa\n",
      "The maximum stresses for loadcase 17503 is: 295.22 MPa\n",
      "The maximum stresses for loadcase 17504 is: 222.3 MPa\n",
      "The maximum stresses for loadcase 17505 is: 289.39 MPa\n",
      "The maximum stresses for loadcase 17506 is: 165.5 MPa\n",
      "The maximum stresses for loadcase 17507 is: 266.46 MPa\n"
     ]
    }
   ],
   "source": [
    "# Filtering elements in the model with the specified property ID.\n",
    "elements_prop11 = [element for element in model.get_elements() if element.Prop == property]\n",
    "\n",
    "# Getting the count of the filtered elements and printing it.\n",
    "print(len(elements_prop11))\n",
    "\n",
    "# Initializing an empty list to store results.\n",
    "results2 = []\n",
    "\n",
    "# Looping through each load case to calculate and store the maximum stress.\n",
    "for lc in model.LoadCases:\n",
    "    results2 = []  # Resetting the results list for each load case.\n",
    "    \n",
    "    # Extracting the Von Mises stress component for the current load case.\n",
    "    results = lc.Results[\"STRESSES\"].Components[\"VON_MISES\"].get_result_ndarray()[0]\n",
    "    \n",
    "    # Appending the stress values for elements with the specified property.\n",
    "    for e in elements_prop11:\n",
    "        results2.append(results[e.InternalID])\n",
    "        \n",
    "    # Calculating the maximum stress for the current load case.\n",
    "    stress_max = max(results2)\n",
    "    \n",
    "    # Printing the maximum stress for the load case.\n",
    "    print(\"The maximum stresses for loadcase \" + str(lc.ID) + \" is: \" + str(round(stress_max, 2)) + \" MPa\")"
   ]
  },
  {
   "cell_type": "markdown",
   "metadata": {},
   "source": [
    "## <span style=\"color: #158aa1;\"><strong>4. New derived load cases</strong></span>"
   ]
  },
  {
   "cell_type": "code",
   "execution_count": 5,
   "metadata": {},
   "outputs": [
    {
     "name": "stdout",
     "output_type": "stream",
     "text": [
      "The new load case has been created: N2PLoadCase(-1: 'loadcase_t+m_0')\n",
      "The new load case has been created: N2PLoadCase(-2: 'loadcase_t+m_1')\n",
      "The new load case has been created: N2PLoadCase(-3: 'loadcase_t+m_2')\n",
      "The new load case has been created: N2PLoadCase(-4: 'loadcase_t+m_3')\n",
      "The new load case has been created: N2PLoadCase(-5: 'loadcase_t+m_4')\n",
      "The new load case has been created: N2PLoadCase(-6: 'loadcase_t+m_5')\n",
      "The new load case has been created: N2PLoadCase(-7: 'loadcase_t+m_6')\n",
      "15\n"
     ]
    }
   ],
   "source": [
    "# Creating new derived load cases by combining existing ones with a formula.\n",
    "value = 7  # Number of derived load cases to create.\n",
    "for i in range(value):\n",
    "    loadcase = 17501 + i  # Generating load case IDs sequentially.\n",
    "    \n",
    "    # Creating a new derived load case using a specific formula.\n",
    "    new_loadcase = model.new_derived_loadcase(\n",
    "        \"loadcase_t+m_\" + str(i), \n",
    "        f\"<LC17500:FR1>+1.5*<LC{loadcase}:FR1>\"\n",
    "    )\n",
    "    # Printing confirmation of the creation of the new load case.\n",
    "    print(\"The new load case has been created:\", new_loadcase)\n",
    "\n",
    "# Printing the total number of load cases after creating new ones.\n",
    "print(len(model.LoadCases))"
   ]
  },
  {
   "cell_type": "markdown",
   "metadata": {},
   "source": [
    "## <span style=\"color: #158aa1;\"><strong>5. Extracting results of the new derived load cases</strong></span>"
   ]
  },
  {
   "cell_type": "code",
   "execution_count": 6,
   "metadata": {},
   "outputs": [
    {
     "name": "stdout",
     "output_type": "stream",
     "text": [
      "The maximum stresses for load case N2PLoadCase(17500: '2DP') is: 182.75305357095982\n",
      "The maximum stresses for load case N2PLoadCase(17501: ' PRESSURE+MECHANICAL') is: 209.05854816466484\n",
      "The maximum stresses for load case N2PLoadCase(17502: ' PRESSURE+MECHANICAL+TEMPERATURE COLD') is: 352.8504908482075\n",
      "The maximum stresses for load case N2PLoadCase(17503: ' PRESSURE+MECHANICAL+TEMPERATURE HOT') is: 295.220030637563\n",
      "The maximum stresses for load case N2PLoadCase(17504: ' MECHANICAL+TEMPERATURECOLD') is: 222.3045462611548\n",
      "The maximum stresses for load case N2PLoadCase(17505: ' MECHANICAL+TEMPERATUREHOT') is: 289.3934465147993\n",
      "The maximum stresses for load case N2PLoadCase(17506: ' PRESSURE+MECHANICAL') is: 165.49581036173666\n",
      "The maximum stresses for load case N2PLoadCase(17507: ' PRESSURE+MECHANICAL+TEMPERATURE COLD') is: 266.45686374896644\n",
      "The maximum stresses for load case N2PLoadCase(-1: 'loadcase_t+m_0') is: 483.57146384006967\n",
      "The maximum stresses for load case N2PLoadCase(-2: 'loadcase_t+m_1') is: 570.6165850602956\n",
      "The maximum stresses for load case N2PLoadCase(-3: 'loadcase_t+m_2') is: 604.1104657660319\n",
      "The maximum stresses for load case N2PLoadCase(-4: 'loadcase_t+m_3') is: 374.74768603387986\n",
      "The maximum stresses for load case N2PLoadCase(-5: 'loadcase_t+m_4') is: 564.6839111847663\n",
      "The maximum stresses for load case N2PLoadCase(-6: 'loadcase_t+m_5') is: 422.6583296918968\n",
      "The maximum stresses for load case N2PLoadCase(-7: 'loadcase_t+m_6') is: 442.64715678666533\n",
      "The maximum stresses for loadcase -3 loadcase_t+m_2 is: 604.11 MPa\n"
     ]
    }
   ],
   "source": [
    "# Initializing variables to track the global maximum stress and corresponding load case.\n",
    "global_max_stress = float('-inf')\n",
    "max_lc = None\n",
    "\n",
    "# Looping through each load case to compute derived stress components and find the maximum stress.\n",
    "for lc in model.LoadCases:\n",
    "    # Creating a new derived Von Mises stress component using a formula.\n",
    "    lc.get_result(\"STRESSES\").new_derived_component(\"von_mises\", formula=\"sqrt(<CMPT_STRESSES:XX>^2+<CMPT_STRESSES:YY>^2-<CMPT_STRESSES:XX>*<CMPT_STRESSES:YY>+3*<CMPT_STRESSES:XY>^2)\")\n",
    "\n",
    "    # Initializing lists to store derived stress results for Z1 and Z2 sections.\n",
    "    results3 = []\n",
    "    results_z1 = lc.Results[\"STRESSES\"].DerivedComponents[\"von_mises\"].get_result_ndarray(sections=[\"Z1\"])[0]\n",
    "    results_z2 = lc.Results[\"STRESSES\"].DerivedComponents[\"von_mises\"].get_result_ndarray(sections=[\"Z2\"])[0]\n",
    "    \n",
    "    # Combining the maximum stress from Z1 and Z2 sections for each element.\n",
    "    results = [max(a, b) for a, b in zip(results_z1, results_z2)]\n",
    "    \n",
    "    # Filtering the results for elements with the specified property.\n",
    "    for e in elements_prop11:\n",
    "        results3.append(results[e.InternalID])\n",
    "    \n",
    "    # Finding the maximum stress for the current load case.\n",
    "    stress_max = max(results3)\n",
    "    \n",
    "    # Printing the maximum stress for the current load case.\n",
    "    print(f\"The maximum stresses for load case {lc} is: {stress_max}\")\n",
    "    \n",
    "    # Updating the global maximum stress and corresponding load case if needed.\n",
    "    if stress_max > global_max_stress:\n",
    "        global_max_stress = stress_max\n",
    "        max_lc = lc\n",
    "\n",
    "# Printing the overall maximum stress and the load case where it occurs.\n",
    "print(\"The maximum stresses for loadcase \" + str(max_lc.ID) + \" \" + max_lc.Name + \" is: \" + str(round(global_max_stress, 2)) + \" MPa\")"
   ]
  }
 ],
 "metadata": {
  "kernelspec": {
   "display_name": "Python 3",
   "language": "python",
   "name": "python3"
  },
  "language_info": {
   "codemirror_mode": {
    "name": "ipython",
    "version": 3
   },
   "file_extension": ".py",
   "mimetype": "text/x-python",
   "name": "python",
   "nbconvert_exporter": "python",
   "pygments_lexer": "ipython3",
   "version": "3.11.7"
  }
 },
 "nbformat": 4,
 "nbformat_minor": 2
}
